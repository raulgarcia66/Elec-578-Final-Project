{
 "cells": [
  {
   "cell_type": "markdown",
   "metadata": {},
   "source": [
    "# Function Demonstrations"
   ]
  },
  {
   "cell_type": "code",
   "execution_count": 1,
   "metadata": {},
   "outputs": [
    {
     "data": {
      "text/plain": [
       "k_means"
      ]
     },
     "execution_count": 1,
     "metadata": {},
     "output_type": "execute_result"
    }
   ],
   "source": [
    "include(\"./JC_functions.jl\")"
   ]
  },
  {
   "cell_type": "markdown",
   "metadata": {},
   "source": [
    "### Gradient Descent"
   ]
  },
  {
   "cell_type": "code",
   "execution_count": 2,
   "metadata": {},
   "outputs": [
    {
     "name": "stdout",
     "output_type": "stream",
     "text": [
      "Number of iterations: 1825400.\n",
      "Solution = [0.00018257417735110227, 1.23e-321]\n",
      "Norm of gradient = 9.999999070629523e-8\n"
     ]
    }
   ],
   "source": [
    "function f(x)\n",
    "    return x[1]^3 + x[2]^2\n",
    "end\n",
    "\n",
    "function ∇f(x)\n",
    "    return [3. * x[1]^2; 2. * x[2]]\n",
    "end\n",
    "\n",
    "function ∇2f(x)\n",
    "    return [6. * x[1]    0.;  0. 2.]\n",
    "end\n",
    "\n",
    "x = gradient_descent(f, ∇f, [1.; 2.])\n",
    "println(\"Solution = $x\")\n",
    "g = norm(∇f(x))\n",
    "println(\"Norm of gradient = $g\")"
   ]
  },
  {
   "cell_type": "markdown",
   "metadata": {},
   "source": [
    "### Newton's Method"
   ]
  },
  {
   "cell_type": "code",
   "execution_count": 3,
   "metadata": {},
   "outputs": [
    {
     "name": "stdout",
     "output_type": "stream",
     "text": [
      "Number of iterations: 13.\n",
      "Solution = [0.0001220703125, 0.0]\n",
      "Norm of gradient = 4.470348358154297e-8\n"
     ]
    }
   ],
   "source": [
    "x = newton_method(f, ∇f, ∇2f, [1.; 2.])\n",
    "println(\"Solution = $x\")\n",
    "g = norm(∇f(x))\n",
    "println(\"Norm of gradient = $g\")"
   ]
  },
  {
   "cell_type": "markdown",
   "metadata": {},
   "source": [
    "### Nonnegative Matrix Factorization"
   ]
  },
  {
   "cell_type": "code",
   "execution_count": 4,
   "metadata": {},
   "outputs": [
    {
     "data": {
      "text/plain": [
       "4×2 Array{Float64,2}:\n",
       " 0.316025  0.316025\n",
       " 0.771565  0.771565\n",
       " 1.2271    1.2271\n",
       " 1.68265   1.68265"
      ]
     },
     "metadata": {},
     "output_type": "display_data"
    },
    {
     "data": {
      "text/plain": [
       "2×3 Array{Float64,2}:\n",
       " 2.86337  3.26054  3.65771\n",
       " 2.86337  3.26054  3.65771"
      ]
     },
     "metadata": {},
     "output_type": "display_data"
    },
    {
     "data": {
      "text/plain": [
       "4×3 Array{Float64,2}:\n",
       " 1.80979   2.06082   2.31185\n",
       " 4.41855   5.03144   5.64432\n",
       " 7.02731   8.00205   8.97679\n",
       " 9.63607  10.9727   12.3093"
      ]
     },
     "metadata": {},
     "output_type": "display_data"
    }
   ],
   "source": [
    "X = [1 2 3; \n",
    "     4 5 6;\n",
    "     7 8 9;\n",
    "     10 11 12]\n",
    "     \n",
    "W, H = nonnegative_matrix_factorization(X, 2)\n",
    "\n",
    "display(W)\n",
    "display(H)\n",
    "display(W * H)"
   ]
  },
  {
   "cell_type": "markdown",
   "metadata": {},
   "source": [
    "### AdaBoost"
   ]
  },
  {
   "cell_type": "code",
   "execution_count": 5,
   "metadata": {},
   "outputs": [
    {
     "name": "stdout",
     "output_type": "stream",
     "text": [
      "Number of iterations: 5.\n",
      "Accuracy = 0.875\n"
     ]
    }
   ],
   "source": [
    "n = 8\n",
    "p = 4\n",
    "\n",
    "X = [1. 1. 1. 1.;\n",
    "     -1. -1. -1. 1.;\n",
    "     -1. -1. -1. 1.;\n",
    "     -1. -1. 1. 1.;\n",
    "     1. 1. 1. 1.;\n",
    "     1. 1. 1. 1.;\n",
    "     1. -1. 1. 1.;\n",
    "     1. -1. -1. 1.]\n",
    "     \n",
    "y = [1. 1. 1. 1. -1. -1. -1. -1.]\n",
    "\n",
    "F = adaboost(X, y)\n",
    "\n",
    "global correct = 0\n",
    "for r in 1:n\n",
    "    pred = sign(F(X[r, :]))\n",
    "    if pred == y[r]\n",
    "        global correct += 1\n",
    "    end\n",
    "end\n",
    "\n",
    "train_acc = correct / n\n",
    "\n",
    "println(\"Accuracy = $train_acc\")"
   ]
  },
  {
   "cell_type": "markdown",
   "metadata": {},
   "source": [
    "### k-means Clustering"
   ]
  },
  {
   "cell_type": "code",
   "execution_count": 6,
   "metadata": {},
   "outputs": [
    {
     "name": "stdout",
     "output_type": "stream",
     "text": [
      "Centroids: \n",
      "[2.333333333333333 1.9999999999999998; -0.4000000000000001 -0.4000000000000001]\n",
      "\n",
      "Cluster-point pairs:\n",
      "[1.0, 2.0, 2.0, 1.0, 2.0, 2.0, 1.0, 2.0]\n"
     ]
    }
   ],
   "source": [
    "X = [2. 2.;\n",
    "     -1. -1.;\n",
    "     -2. -2.;\n",
    "     3. 3.;\n",
    "     0. 0.;\n",
    "     1. 0.;\n",
    "     2. 1.;\n",
    "     0. 1.]\n",
    "\n",
    "centroids, nearest = k_means(X, 2)\n",
    "\n",
    "println(\"Centroids: \")\n",
    "println(centroids)\n",
    "\n",
    "println()\n",
    "println(\"Cluster-point pairs:\")\n",
    "println(nearest)"
   ]
  },
  {
   "cell_type": "code",
   "execution_count": null,
   "metadata": {},
   "outputs": [],
   "source": []
  }
 ],
 "metadata": {
  "kernelspec": {
   "display_name": "Julia 1.5.4",
   "language": "julia",
   "name": "julia-1.5"
  },
  "language_info": {
   "file_extension": ".jl",
   "mimetype": "application/julia",
   "name": "julia",
   "version": "1.5.4"
  }
 },
 "nbformat": 4,
 "nbformat_minor": 4
}
